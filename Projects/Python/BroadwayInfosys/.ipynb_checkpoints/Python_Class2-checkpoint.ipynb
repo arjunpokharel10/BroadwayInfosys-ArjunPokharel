{
 "cells": [
  {
   "cell_type": "code",
   "execution_count": null,
   "id": "67176db5-3c9f-4b8c-a2ef-bd1d1dcf592a",
   "metadata": {},
   "outputs": [],
   "source": [
    "http://localhost:8888/notebooks/Python_Class2.ipynb\n",
    "\n",
    "8888 is a port. \n",
    ".ipybn is extension\n",
    "\n",
    "\n",
    "command + enter> runs\n",
    "shift + enter > run and new line\n",
    "enter > breaks line\n",
    "\n",
    "in programming, computation always happens on the right-hand side. i.e. execution occurs first on the right-hand side. \n",
    "\n",
    "naming conventions: \n",
    "camelCase\n",
    "snake_case\n",
    "\n",
    "keywords cannot be used as a variable name\n",
    "variable names do not start with numbers\n",
    "\n",
    "\n"
   ]
  },
  {
   "cell_type": "code",
   "execution_count": 1,
   "id": "96f93a2c-c2ca-4523-9d56-b54f46adf085",
   "metadata": {},
   "outputs": [
    {
     "name": "stdout",
     "output_type": "stream",
     "text": [
      "hello, world\n"
     ]
    }
   ],
   "source": [
    "print(\"hello, world\")"
   ]
  },
  {
   "cell_type": "code",
   "execution_count": 2,
   "id": "63cb0eca-990a-4a7e-86ea-d59c97e7b0a9",
   "metadata": {},
   "outputs": [],
   "source": [
    "name = \"arjun pokharel\" # string called \"arjun pokharel\" is stored in variable \"name\""
   ]
  },
  {
   "cell_type": "code",
   "execution_count": 6,
   "id": "1094667b-2817-400e-8a55-805ed0d0a822",
   "metadata": {},
   "outputs": [
    {
     "name": "stdout",
     "output_type": "stream",
     "text": [
      "arjun pokharel\n"
     ]
    }
   ],
   "source": [
    "print(name)"
   ]
  },
  {
   "cell_type": "code",
   "execution_count": 7,
   "id": "00eb47dc-4a3f-46b2-ab92-fb25de999ab3",
   "metadata": {},
   "outputs": [],
   "source": [
    "num1 = 10"
   ]
  },
  {
   "cell_type": "code",
   "execution_count": 8,
   "id": "fcd06e12-919f-40c3-9a28-4b733fc5640c",
   "metadata": {},
   "outputs": [],
   "source": [
    "num2 = 20"
   ]
  },
  {
   "cell_type": "code",
   "execution_count": 10,
   "id": "290b772b-4421-445c-b599-77af278fd871",
   "metadata": {},
   "outputs": [],
   "source": [
    "demo_num = 5"
   ]
  },
  {
   "cell_type": "code",
   "execution_count": 13,
   "id": "b220b212-e2fe-4fe1-977d-9ef21278d0f2",
   "metadata": {},
   "outputs": [],
   "source": [
    "demo_num += 10"
   ]
  },
  {
   "cell_type": "code",
   "execution_count": 14,
   "id": "9d978180-8318-48f1-bd5b-f1ebbd6f093c",
   "metadata": {},
   "outputs": [
    {
     "data": {
      "text/plain": [
       "35"
      ]
     },
     "execution_count": 14,
     "metadata": {},
     "output_type": "execute_result"
    }
   ],
   "source": [
    "demo_num"
   ]
  },
  {
   "cell_type": "code",
   "execution_count": 15,
   "id": "2d97d9f8-b3db-4242-8f6f-6f99e00d6562",
   "metadata": {},
   "outputs": [
    {
     "data": {
      "text/plain": [
       "35"
      ]
     },
     "execution_count": 15,
     "metadata": {},
     "output_type": "execute_result"
    }
   ],
   "source": [
    "demo_num"
   ]
  },
  {
   "cell_type": "code",
   "execution_count": 16,
   "id": "b1395970-f950-470b-bd64-f3b577a2b71f",
   "metadata": {},
   "outputs": [
    {
     "name": "stdout",
     "output_type": "stream",
     "text": [
      "35\n"
     ]
    }
   ],
   "source": [
    "print(demo_num)"
   ]
  },
  {
   "cell_type": "code",
   "execution_count": 17,
   "id": "791f712d-4d5f-4552-9f24-b49b09120707",
   "metadata": {},
   "outputs": [],
   "source": [
    "demo_num_2 = 10"
   ]
  },
  {
   "cell_type": "code",
   "execution_count": 18,
   "id": "501e0a31-28d7-4454-9b18-f7b27177bf4c",
   "metadata": {},
   "outputs": [],
   "source": [
    "demo_num_2 -= 5"
   ]
  },
  {
   "cell_type": "code",
   "execution_count": 19,
   "id": "65f63df9-e623-46f5-a714-ffd60e96e37d",
   "metadata": {},
   "outputs": [
    {
     "data": {
      "text/plain": [
       "5"
      ]
     },
     "execution_count": 19,
     "metadata": {},
     "output_type": "execute_result"
    }
   ],
   "source": [
    "demo_num_2"
   ]
  },
  {
   "cell_type": "code",
   "execution_count": 20,
   "id": "0e110edb-6add-4c75-9ed5-3853059b60f0",
   "metadata": {},
   "outputs": [
    {
     "data": {
      "text/plain": [
       "10"
      ]
     },
     "execution_count": 20,
     "metadata": {},
     "output_type": "execute_result"
    }
   ],
   "source": [
    "5+5"
   ]
  },
  {
   "cell_type": "code",
   "execution_count": 21,
   "id": "15e56ba2-5f80-419e-b5a5-85292cec5053",
   "metadata": {},
   "outputs": [
    {
     "data": {
      "text/plain": [
       "10"
      ]
     },
     "execution_count": 21,
     "metadata": {},
     "output_type": "execute_result"
    }
   ],
   "source": [
    "5*2"
   ]
  },
  {
   "cell_type": "code",
   "execution_count": 22,
   "id": "b3f47d06-474f-44b8-b3ad-55f97dc08c61",
   "metadata": {},
   "outputs": [
    {
     "data": {
      "text/plain": [
       "0"
      ]
     },
     "execution_count": 22,
     "metadata": {},
     "output_type": "execute_result"
    }
   ],
   "source": [
    "16%2"
   ]
  },
  {
   "cell_type": "code",
   "execution_count": 23,
   "id": "47f3792d-8968-471f-bbb1-c6cf5d76387a",
   "metadata": {},
   "outputs": [
    {
     "data": {
      "text/plain": [
       "9"
      ]
     },
     "execution_count": 23,
     "metadata": {},
     "output_type": "execute_result"
    }
   ],
   "source": [
    "3**2"
   ]
  },
  {
   "cell_type": "code",
   "execution_count": 24,
   "id": "e328d226-9dfe-4e1c-8d8b-376790ad1e9b",
   "metadata": {},
   "outputs": [
    {
     "data": {
      "text/plain": [
       "3.0"
      ]
     },
     "execution_count": 24,
     "metadata": {},
     "output_type": "execute_result"
    }
   ],
   "source": [
    "6/2"
   ]
  },
  {
   "cell_type": "code",
   "execution_count": 25,
   "id": "1e0f7445-7e7f-4a19-9886-4a118b2174e9",
   "metadata": {},
   "outputs": [
    {
     "data": {
      "text/plain": [
       "3"
      ]
     },
     "execution_count": 25,
     "metadata": {},
     "output_type": "execute_result"
    }
   ],
   "source": [
    "int(6/2)"
   ]
  },
  {
   "cell_type": "code",
   "execution_count": 26,
   "id": "63c22e68-5c0c-40eb-9503-06885bacdf76",
   "metadata": {},
   "outputs": [
    {
     "data": {
      "text/plain": [
       "3"
      ]
     },
     "execution_count": 26,
     "metadata": {},
     "output_type": "execute_result"
    }
   ],
   "source": [
    "6//2"
   ]
  },
  {
   "cell_type": "code",
   "execution_count": 27,
   "id": "b29baa71-8d81-406d-8adc-b0352e231a9b",
   "metadata": {},
   "outputs": [
    {
     "data": {
      "text/plain": [
       "2.3333333333333335"
      ]
     },
     "execution_count": 27,
     "metadata": {},
     "output_type": "execute_result"
    }
   ],
   "source": [
    "7/3"
   ]
  },
  {
   "cell_type": "code",
   "execution_count": 28,
   "id": "a95fe1a9-4c50-4be2-8a1f-87d8927ffe05",
   "metadata": {},
   "outputs": [
    {
     "data": {
      "text/plain": [
       "2"
      ]
     },
     "execution_count": 28,
     "metadata": {},
     "output_type": "execute_result"
    }
   ],
   "source": [
    "7//3"
   ]
  },
  {
   "cell_type": "code",
   "execution_count": 29,
   "id": "443947a7-c23d-4773-b6ab-506e4062435d",
   "metadata": {},
   "outputs": [
    {
     "data": {
      "text/plain": [
       "11"
      ]
     },
     "execution_count": 29,
     "metadata": {},
     "output_type": "execute_result"
    }
   ],
   "source": [
    "5 + 3  * 2 #operation precedence >> PEMDAS"
   ]
  },
  {
   "cell_type": "code",
   "execution_count": null,
   "id": "c3ccfb77-6bd2-4fe7-be07-1823b92d300c",
   "metadata": {},
   "outputs": [],
   "source": [
    "math.floor\n",
    "math.ceil\n",
    "math.round\n",
    "\n",
    "\n",
    "assigment:\n",
    "make folder for class each day\n",
    "environment banaauni\n",
    "activatee garni\n",
    "jupyter install garni\n",
    "jupyter run garni\n",
    "\n"
   ]
  }
 ],
 "metadata": {
  "kernelspec": {
   "display_name": "Python 3 (ipykernel)",
   "language": "python",
   "name": "python3"
  },
  "language_info": {
   "codemirror_mode": {
    "name": "ipython",
    "version": 3
   },
   "file_extension": ".py",
   "mimetype": "text/x-python",
   "name": "python",
   "nbconvert_exporter": "python",
   "pygments_lexer": "ipython3",
   "version": "3.13.0"
  }
 },
 "nbformat": 4,
 "nbformat_minor": 5
}
