{
 "cells": [
  {
   "cell_type": "code",
   "execution_count": 20,
   "id": "a2a4c7a2-54c6-4349-8b75-c0d3ae944ce6",
   "metadata": {},
   "outputs": [
    {
     "name": "stdin",
     "output_type": "stream",
     "text": [
      "enter a word, phrase, or a sentence to check if it is a palindrome:  thisisnot a palindrome\n"
     ]
    },
    {
     "name": "stdout",
     "output_type": "stream",
     "text": [
      "'thisisnot a palindrome' is not a palindrome!\n"
     ]
    }
   ],
   "source": [
    "char = input(\"enter a word, phrase, or a sentence to check if it is a palindrome: \").lower()\n",
    "rev_char = \"\"\n",
    "org_char = \"\"\n",
    "for i in char:\n",
    "    rev_char = i + rev_char\n",
    "    org_char = org_char + i\n",
    "\n",
    "if rev_char == org_char:\n",
    "    print(f\"'{char}' is a palindrome!\")\n",
    "else:\n",
    "    print(f\"'{char}' is not a palindrome!\")\n",
    "\n",
    "    "
   ]
  },
  {
   "cell_type": "code",
   "execution_count": null,
   "id": "2fe0451a-8b61-4409-a992-3f067033f099",
   "metadata": {},
   "outputs": [],
   "source": []
  }
 ],
 "metadata": {
  "kernelspec": {
   "display_name": "Python 3 (ipykernel)",
   "language": "python",
   "name": "python3"
  },
  "language_info": {
   "codemirror_mode": {
    "name": "ipython",
    "version": 3
   },
   "file_extension": ".py",
   "mimetype": "text/x-python",
   "name": "python",
   "nbconvert_exporter": "python",
   "pygments_lexer": "ipython3",
   "version": "3.13.0"
  }
 },
 "nbformat": 4,
 "nbformat_minor": 5
}
