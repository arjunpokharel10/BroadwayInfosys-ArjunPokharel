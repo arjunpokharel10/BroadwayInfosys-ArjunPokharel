{
 "cells": [
  {
   "cell_type": "code",
   "execution_count": 5,
   "id": "d6dfac9d-c8eb-47ca-ad76-a0d57d4d7d11",
   "metadata": {},
   "outputs": [
    {
     "name": "stdin",
     "output_type": "stream",
     "text": [
      "enter a master password:  hello\n",
      "do you want to view your passwords or add a new password: [view/add] view\n"
     ]
    },
    {
     "ename": "ValueError",
     "evalue": "too many values to unpack (expected 2)",
     "output_type": "error",
     "traceback": [
      "\u001b[0;31m---------------------------------------------------------------------------\u001b[0m",
      "\u001b[0;31mValueError\u001b[0m                                Traceback (most recent call last)",
      "Cell \u001b[0;32mIn[5], line 24\u001b[0m\n\u001b[1;32m     21\u001b[0m     \u001b[38;5;28;01mbreak\u001b[39;00m\n\u001b[1;32m     23\u001b[0m \u001b[38;5;28;01mif\u001b[39;00m answer \u001b[38;5;241m==\u001b[39m \u001b[38;5;124m\"\u001b[39m\u001b[38;5;124mview\u001b[39m\u001b[38;5;124m\"\u001b[39m:\n\u001b[0;32m---> 24\u001b[0m     \u001b[43mview\u001b[49m\u001b[43m(\u001b[49m\u001b[43m)\u001b[49m\n\u001b[1;32m     25\u001b[0m \u001b[38;5;28;01melif\u001b[39;00m answer \u001b[38;5;241m==\u001b[39m \u001b[38;5;124m\"\u001b[39m\u001b[38;5;124madd\u001b[39m\u001b[38;5;124m\"\u001b[39m:\n\u001b[1;32m     26\u001b[0m     add()\n",
      "Cell \u001b[0;32mIn[5], line 7\u001b[0m, in \u001b[0;36mview\u001b[0;34m()\u001b[0m\n\u001b[1;32m      5\u001b[0m \u001b[38;5;28;01mfor\u001b[39;00m line \u001b[38;5;129;01min\u001b[39;00m f\u001b[38;5;241m.\u001b[39mreadlines():\n\u001b[1;32m      6\u001b[0m     data \u001b[38;5;241m=\u001b[39m line\u001b[38;5;241m.\u001b[39mrstrip()\n\u001b[0;32m----> 7\u001b[0m     user, passw \u001b[38;5;241m=\u001b[39m data\u001b[38;5;241m.\u001b[39msplit(\u001b[38;5;124m\"\u001b[39m\u001b[38;5;124m | \u001b[39m\u001b[38;5;124m\"\u001b[39m)\n\u001b[1;32m      8\u001b[0m     \u001b[38;5;28mprint\u001b[39m(\u001b[38;5;124m\"\u001b[39m\u001b[38;5;124mUser Name: \u001b[39m\u001b[38;5;124m\"\u001b[39m, user, \u001b[38;5;124m\"\u001b[39m\u001b[38;5;124m| Password\u001b[39m\u001b[38;5;124m\"\u001b[39m, passw)\n",
      "\u001b[0;31mValueError\u001b[0m: too many values to unpack (expected 2)"
     ]
    }
   ],
   "source": [
    "master_pwd = input(\"enter a master password: \")\n",
    "\n",
    "def view():\n",
    "    with open('passwords.txt', 'r') as f:\n",
    "        for line in f.readlines():\n",
    "            data = line.rstrip()\n",
    "            user, passw = data.split(\" | \")\n",
    "            print(\"User Name: \", user, \"| Password\", passw)\n",
    "\n",
    "def add():\n",
    "    user_name = input(\"enter your user name: \")\n",
    "    password = input(\"enter your password: \")\n",
    "    \n",
    "    with open('passwords.txt', 'a') as f:\n",
    "        f.write(user_name + \" | \" + password + \"\\n\")\n",
    "        \n",
    "\n",
    "while True:\n",
    "    answer = input(\"do you want to view your passwords or add a new password: [view/add]\").lower()\n",
    "    if answer == \"q\":\n",
    "        break\n",
    "    \n",
    "    if answer == \"view\":\n",
    "        view()\n",
    "    elif answer == \"add\":\n",
    "        add()\n",
    "    else:\n",
    "        print(\"not a valid option, please enter 'view' to view your passwords or 'add' to add a password: \")\n",
    "        continue"
   ]
  },
  {
   "cell_type": "code",
   "execution_count": null,
   "id": "c6094f3f-7f4e-4353-9ce1-425bd47f4c64",
   "metadata": {},
   "outputs": [],
   "source": []
  }
 ],
 "metadata": {
  "kernelspec": {
   "display_name": "Python 3 (ipykernel)",
   "language": "python",
   "name": "python3"
  },
  "language_info": {
   "codemirror_mode": {
    "name": "ipython",
    "version": 3
   },
   "file_extension": ".py",
   "mimetype": "text/x-python",
   "name": "python",
   "nbconvert_exporter": "python",
   "pygments_lexer": "ipython3",
   "version": "3.13.0"
  }
 },
 "nbformat": 4,
 "nbformat_minor": 5
}
