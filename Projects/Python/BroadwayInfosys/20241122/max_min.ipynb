{
 "cells": [
  {
   "cell_type": "code",
   "execution_count": 1,
   "id": "e790edfb-c5f3-4354-a7be-3f017395bfd9",
   "metadata": {},
   "outputs": [
    {
     "name": "stdin",
     "output_type": "stream",
     "text": [
      "enter numbers separated by a space:  34 34 5 3 1234 234\n"
     ]
    },
    {
     "name": "stdout",
     "output_type": "stream",
     "text": [
      "the maximum number in'[3, 5, 34, 34, 234, 1234]' is 1234, and the minimum number is 3.\n"
     ]
    }
   ],
   "source": [
    "numbers = list(map(int, input(\"enter numbers separated by a space: \").split()))\n",
    "numbers.sort()\n",
    "print(f\"the maximum number in'{numbers}' is {numbers[-1]}, and the minimum number is {numbers[0]}.\")"
   ]
  },
  {
   "cell_type": "code",
   "execution_count": null,
   "id": "ac6ce2a0-a206-4788-8ad9-e54215f9b281",
   "metadata": {},
   "outputs": [],
   "source": []
  }
 ],
 "metadata": {
  "kernelspec": {
   "display_name": "Python 3 (ipykernel)",
   "language": "python",
   "name": "python3"
  },
  "language_info": {
   "codemirror_mode": {
    "name": "ipython",
    "version": 3
   },
   "file_extension": ".py",
   "mimetype": "text/x-python",
   "name": "python",
   "nbconvert_exporter": "python",
   "pygments_lexer": "ipython3",
   "version": "3.13.0"
  }
 },
 "nbformat": 4,
 "nbformat_minor": 5
}
