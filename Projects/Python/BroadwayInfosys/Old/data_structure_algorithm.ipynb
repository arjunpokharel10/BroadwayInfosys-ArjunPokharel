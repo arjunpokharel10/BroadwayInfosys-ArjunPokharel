{
 "cells": [
  {
   "cell_type": "code",
   "execution_count": 1,
   "id": "c1371aa1-7e01-4872-925f-b8a07e9cf35f",
   "metadata": {},
   "outputs": [],
   "source": [
    "# function signature\n",
    "\n",
    "def locate_card(cards, query):\n",
    "    pass\n",
    "    "
   ]
  },
  {
   "cell_type": "code",
   "execution_count": 2,
   "id": "4691a50e-9285-4f0e-b63d-3cead18df381",
   "metadata": {},
   "outputs": [],
   "source": [
    "# test case 1\n",
    "cards = [55, 34, 31, 25, 20, 19, 11, 9, 5, 2, 1, 0]\n",
    "query = 5\n",
    "output = 8"
   ]
  },
  {
   "cell_type": "code",
   "execution_count": 4,
   "id": "27707aa5-d98b-4456-839a-3dddff48f068",
   "metadata": {},
   "outputs": [
    {
     "name": "stdout",
     "output_type": "stream",
     "text": [
      "None\n"
     ]
    }
   ],
   "source": [
    "result = locate_card(cards, query)\n",
    "print(result)"
   ]
  },
  {
   "cell_type": "code",
   "execution_count": 5,
   "id": "2080d175-1f6c-408d-ba28-511fbed1821e",
   "metadata": {},
   "outputs": [
    {
     "data": {
      "text/plain": [
       "False"
      ]
     },
     "execution_count": 5,
     "metadata": {},
     "output_type": "execute_result"
    }
   ],
   "source": [
    "result == output"
   ]
  },
  {
   "cell_type": "code",
   "execution_count": null,
   "id": "7c9c029b-0de8-4bbf-8976-0f1e2a3a10d3",
   "metadata": {},
   "outputs": [],
   "source": [
    "test = {\n",
    "    'input': {\n",
    "        'cards': [55, 34, 31, 25, 20, 19, 11, 9, 5, 2, 1, 0]\n",
    "        'query': 5\n",
    "    },\n",
    "    'output': 3\n",
    "}"
   ]
  },
  {
   "cell_type": "code",
   "execution_count": null,
   "id": "6653a431-4d5d-4d1e-a569-9b32af8887ff",
   "metadata": {},
   "outputs": [],
   "source": [
    "locate_card(**test["
   ]
  }
 ],
 "metadata": {
  "kernelspec": {
   "display_name": "Python 3 (ipykernel)",
   "language": "python",
   "name": "python3"
  },
  "language_info": {
   "codemirror_mode": {
    "name": "ipython",
    "version": 3
   },
   "file_extension": ".py",
   "mimetype": "text/x-python",
   "name": "python",
   "nbconvert_exporter": "python",
   "pygments_lexer": "ipython3",
   "version": "3.13.0"
  }
 },
 "nbformat": 4,
 "nbformat_minor": 5
}
