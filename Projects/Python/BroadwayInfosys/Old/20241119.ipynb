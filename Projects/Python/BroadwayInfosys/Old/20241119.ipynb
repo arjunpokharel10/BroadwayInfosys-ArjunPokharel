{
 "cells": [
  {
   "cell_type": "markdown",
   "metadata": {},
   "source": [
    "This notebook is to record the day 1 of Python for Data Science offered by Broadway Infosys. Nepal time 3pm. Australia/Sydney time 8:15pm\n",
    "Tutor - Sushrant Rijal\n",
    "\n",
    "Notes:\n",
    " - Programming in itself isn't hard. What is hard is to learn patterns. \n",
    " - List vs Tuple [why use tuple over list, or vice-versa, these are fundamentals. Learn fundamentals and you will be solid.]\n",
    " - Be laser focued on at least the first 20 days of this class. This is crucial. \n",
    " - We will be learning \"Software Engineering\" fundamentals, not just Python. So, be laser focused on this class, and you can learn whatever language you want later. \n",
    " - Learn to solve problems yourself, if you reply on someone else to fix your mistakes, you will never learn. Avoid chatGPT etc. for now. \n",
    " - Try to solve errors for at least 30 mins. If you can't solve within 30 mins - you can look for documentations, stackoverflow, geeks4geeks, github and so on - then you can look elsewhere, such as chatGPT, even then try not to get solution. \n",
    " - We actually learn when we are trying to fix something.  \n",
    " - Focus in fundamentals. Sit with errors. Learn to get comfortable with boredome (while trying to figure out probelems)\n",
    " - Regular expressions. Pattern matching. (Advanced). \n",
    " - Some fundamentals to make it your second nature:\n",
    "    - Pattern recognition\n",
    "    - Variables\n",
    "    - Classes\n",
    "    - Functions\n",
    "    - etc. etc. \n",
    "\n",
    "Python:\n",
    "- Any fool can write a code that machine can understand but only a great programmer can write a program that another human can read. \n",
    "- Readability counts\n",
    "- Simple is better than complex\n",
    "- JS is more popular than Python because JS is used for front-end development\n",
    "- Python is an interpreted language. Why?\n",
    "- When .py is run, it is complied into byte code. What is byte code. Then this is interpreted. Then converted to binary/machine code. Then computer. \n",
    "\n",
    "- What is python3 what is python3.1 etc. If new features are added, a new version is pushed. Eg. Walrus feature, if they add it, they'll release a new version. Python3.1 and Python3.2 (version update), but version Python3.11 vs Python3.12 is subversion. Not that major change.  But super major change is from Python2 to Python3. LTS vs latest support. LTS is usually stable. \n",
    "\n",
    "- What is pip? Package manager. \n",
    "\n",
    "- Sentiment analysis. Previously, this would take a major undertaking, now for example because of OpenAI, it take only couple of hours/days. \n",
    "\n",
    "- Terminal - iTerm2 << what is this? >>\n",
    "\n",
    "- Python in terminal, python shell:\n",
    "\n",
    "pokharel@g<\\M-^_f my-shop % python3 -m venv env\n",
    "pokharel@g<\\M-^_f my-shop % source env/bin/activate \n",
    "\n",
    "For more info: docs.python.org/3/library/venv.html\n",
    "\n",
    "WHAT IS VIRTUAL ENVIRONMENT?\n",
    "- for a project, we consolidate whatever projects we need for that project. \n"
   ]
  },
  {
   "cell_type": "code",
   "execution_count": null,
   "metadata": {},
   "outputs": [],
   "source": []
  }
 ],
 "metadata": {
  "kernelspec": {
   "display_name": ".venv",
   "language": "python",
   "name": "python3"
  },
  "language_info": {
   "codemirror_mode": {
    "name": "ipython",
    "version": 3
   },
   "file_extension": ".py",
   "mimetype": "text/x-python",
   "name": "python",
   "nbconvert_exporter": "python",
   "pygments_lexer": "ipython3",
   "version": "3.13.0"
  }
 },
 "nbformat": 4,
 "nbformat_minor": 2
}
