{
 "cells": [
  {
   "cell_type": "code",
   "execution_count": 2,
   "id": "1c6f93b9-25ec-4fac-913f-aaf2d325036c",
   "metadata": {},
   "outputs": [],
   "source": [
    "import random"
   ]
  },
  {
   "cell_type": "code",
   "execution_count": 3,
   "id": "e1e1a3dd-12e9-4234-a513-a0b4ba98d61f",
   "metadata": {},
   "outputs": [
    {
     "name": "stdout",
     "output_type": "stream",
     "text": [
      "9\n"
     ]
    }
   ],
   "source": [
    "rand_num = random.randint(1,11)\n",
    "print(rand_num)"
   ]
  },
  {
   "cell_type": "code",
   "execution_count": 4,
   "id": "0ab28d09-1378-4ae7-9e9d-03f72d9e545c",
   "metadata": {},
   "outputs": [],
   "source": [
    "count = 0\n",
    "reward = {1: '100%', 2: '90%', 3: '70%', 4: '50%', 5: '32%'}"
   ]
  },
  {
   "cell_type": "code",
   "execution_count": null,
   "id": "59c00891-7db4-4404-9d16-a5efa23696d4",
   "metadata": {},
   "outputs": [
    {
     "name": "stdin",
     "output_type": "stream",
     "text": [
      "guess a number betwee 1 and 10 9\n"
     ]
    },
    {
     "name": "stdout",
     "output_type": "stream",
     "text": [
      "wrong guess! you have 4 guess left, try again!\n"
     ]
    }
   ],
   "source": [
    "while count < 5:\n",
    "    gues_num = input(\"guess a number betwee 1 and 10\")\n",
    "    if not gues_num.isnumeric():\n",
    "        print(\"this is not a valid input, enter a valid number and try again!\")\n",
    "        continue\n",
    "    count += 1\n",
    "    if gues_num == rand_num:\n",
    "        print(f\"correct, you guessed it in {count} tries! you earn {reward[count]} of the reward value!\")\n",
    "        break\n",
    "    elif gues_num != rand_num:\n",
    "            if count == 5:\n",
    "                print(\"you are out of guesses, better luck next time!\")\n",
    "            else:\n",
    "                print(f\"wrong guess! you have {5-count} guess left, try again!\")"
   ]
  },
  {
   "cell_type": "code",
   "execution_count": null,
   "id": "cb70fdb0-e4f0-46e3-a2bc-2ae3f56b259e",
   "metadata": {},
   "outputs": [],
   "source": [
    "while count < 5:\n",
    "    gues_num = input(\"guess a number betwee 1 and 10\")\n",
    "    if not gues_num.isnumeric():\n",
    "        print(\"this is not a valid input, enter a valid number and try again!\")\n",
    "        continue\n",
    "    count += 1\n",
    "    if gues_num == rand_num:\n",
    "        print(f\"correct, you guessed it in {count} tries! you earn {reward[count]} of the reward value!\")\n",
    "        break\n",
    "    elif gues_num != rand_num:\n",
    "            if count == 5:\n",
    "                print(\"you are out of guesses, better luck next time!\")\n",
    "            else:\n",
    "                print(f\"wrong guess! you have {5-count} guess left, try again!\")"
   ]
  }
 ],
 "metadata": {
  "kernelspec": {
   "display_name": "Python 3 (ipykernel)",
   "language": "python",
   "name": "python3"
  },
  "language_info": {
   "codemirror_mode": {
    "name": "ipython",
    "version": 3
   },
   "file_extension": ".py",
   "mimetype": "text/x-python",
   "name": "python",
   "nbconvert_exporter": "python",
   "pygments_lexer": "ipython3",
   "version": "3.13.0"
  }
 },
 "nbformat": 4,
 "nbformat_minor": 5
}
