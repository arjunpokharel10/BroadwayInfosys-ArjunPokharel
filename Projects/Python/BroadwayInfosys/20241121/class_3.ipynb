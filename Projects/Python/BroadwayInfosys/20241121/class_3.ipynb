{
 "cells": [
  {
   "cell_type": "code",
   "execution_count": 1,
   "id": "5ffad7ff-a52b-4722-8e7a-9323d43740db",
   "metadata": {},
   "outputs": [],
   "source": [
    "num1 = 10\n"
   ]
  },
  {
   "cell_type": "code",
   "execution_count": 2,
   "id": "af8f7902-9fb6-4055-83a5-a85b1345f82c",
   "metadata": {},
   "outputs": [],
   "source": [
    "name = \"arjun\""
   ]
  },
  {
   "cell_type": "code",
   "execution_count": 3,
   "id": "00af09aa-faac-4a51-a687-fba3d996a0bf",
   "metadata": {},
   "outputs": [],
   "source": [
    "example_array = [1, 2, 3, \"arjun\"]"
   ]
  },
  {
   "cell_type": "code",
   "execution_count": 4,
   "id": "5ee63b28-85da-4d23-bbdd-c28a0ec531c1",
   "metadata": {},
   "outputs": [
    {
     "data": {
      "text/plain": [
       "[1, 2, 3, 'arjun']"
      ]
     },
     "execution_count": 4,
     "metadata": {},
     "output_type": "execute_result"
    }
   ],
   "source": [
    "example_array"
   ]
  },
  {
   "cell_type": "code",
   "execution_count": 5,
   "id": "2017cb84-530c-4eb1-a3b5-e5984286f794",
   "metadata": {},
   "outputs": [],
   "source": [
    "hobbies = ['writing' ,'singing' ,'watching tv']"
   ]
  },
  {
   "cell_type": "code",
   "execution_count": 6,
   "id": "0a3afbf0-8918-4917-ac9a-8e64eca044ee",
   "metadata": {},
   "outputs": [
    {
     "data": {
      "text/plain": [
       "['writing', 'singing', 'watching tv']"
      ]
     },
     "execution_count": 6,
     "metadata": {},
     "output_type": "execute_result"
    }
   ],
   "source": [
    "hobbies"
   ]
  },
  {
   "cell_type": "code",
   "execution_count": 7,
   "id": "6eeb3072-370f-4e93-b09d-a31f71b08878",
   "metadata": {},
   "outputs": [],
   "source": [
    "hobbies.append(example_array)"
   ]
  },
  {
   "cell_type": "code",
   "execution_count": 8,
   "id": "2ea42d92-a30a-4d3a-b548-2e842537110e",
   "metadata": {},
   "outputs": [
    {
     "data": {
      "text/plain": [
       "['writing', 'singing', 'watching tv', [1, 2, 3, 'arjun']]"
      ]
     },
     "execution_count": 8,
     "metadata": {},
     "output_type": "execute_result"
    }
   ],
   "source": [
    "hobbies"
   ]
  },
  {
   "cell_type": "code",
   "execution_count": 9,
   "id": "e548ed5e-bd15-45fc-8e29-6e2ac0c829ba",
   "metadata": {},
   "outputs": [],
   "source": [
    "name = \"arjun pokharel\""
   ]
  },
  {
   "cell_type": "code",
   "execution_count": 10,
   "id": "5cc00799-2884-4359-97f2-76086e0053a7",
   "metadata": {},
   "outputs": [
    {
     "name": "stdin",
     "output_type": "stream",
     "text": [
      "enter your name:  arjun\n"
     ]
    }
   ],
   "source": [
    "name = input(\"enter your name: \")"
   ]
  },
  {
   "cell_type": "code",
   "execution_count": 11,
   "id": "f232e4f8-f510-4ea5-8f8c-3a6d665a5b1e",
   "metadata": {},
   "outputs": [
    {
     "data": {
      "text/plain": [
       "'arjun'"
      ]
     },
     "execution_count": 11,
     "metadata": {},
     "output_type": "execute_result"
    }
   ],
   "source": [
    "name"
   ]
  },
  {
   "cell_type": "code",
   "execution_count": 16,
   "id": "9094a5af-07f8-4e7f-8afd-578efcd91aca",
   "metadata": {},
   "outputs": [],
   "source": [
    "example1 = [1, 2, 3]"
   ]
  },
  {
   "cell_type": "code",
   "execution_count": 17,
   "id": "60357c56-81dc-4418-8ae0-b6b0e2fcc20a",
   "metadata": {},
   "outputs": [
    {
     "data": {
      "text/plain": [
       "[1, 2, 3]"
      ]
     },
     "execution_count": 17,
     "metadata": {},
     "output_type": "execute_result"
    }
   ],
   "source": [
    "example1"
   ]
  },
  {
   "cell_type": "code",
   "execution_count": 18,
   "id": "1921fdcb-72ba-4eec-8ef7-4cab9e6c789e",
   "metadata": {},
   "outputs": [],
   "source": [
    "example1 = [3, 4, 5] #this replaces the variable with the new list"
   ]
  },
  {
   "cell_type": "code",
   "execution_count": 19,
   "id": "5882f615-b6c5-416e-9a1d-ddd58512c205",
   "metadata": {},
   "outputs": [
    {
     "data": {
      "text/plain": [
       "[3, 4, 5]"
      ]
     },
     "execution_count": 19,
     "metadata": {},
     "output_type": "execute_result"
    }
   ],
   "source": [
    "example1"
   ]
  },
  {
   "cell_type": "code",
   "execution_count": 23,
   "id": "1bc52bbd-faaa-4cdd-a772-88d431e41b5b",
   "metadata": {},
   "outputs": [],
   "source": [
    "example1.append(7) #but append method will add this new element to the list"
   ]
  },
  {
   "cell_type": "code",
   "execution_count": 22,
   "id": "7e292cd0-c146-4c32-8692-073547cd424a",
   "metadata": {},
   "outputs": [
    {
     "data": {
      "text/plain": [
       "[3, 4, 5, 7]"
      ]
     },
     "execution_count": 22,
     "metadata": {},
     "output_type": "execute_result"
    }
   ],
   "source": [
    "example1"
   ]
  },
  {
   "cell_type": "code",
   "execution_count": 26,
   "id": "b33d2aba-9757-41b2-b12f-29ffd5daa07b",
   "metadata": {},
   "outputs": [],
   "source": [
    "actor_name = \"bipin karkis\""
   ]
  },
  {
   "cell_type": "code",
   "execution_count": 27,
   "id": "77123f74-af36-49ee-8bd0-9100a68482d6",
   "metadata": {},
   "outputs": [
    {
     "data": {
      "text/plain": [
       "'bipin karki'"
      ]
     },
     "execution_count": 27,
     "metadata": {},
     "output_type": "execute_result"
    }
   ],
   "source": [
    "actor_name.replace(\"s\",\"\")"
   ]
  },
  {
   "cell_type": "code",
   "execution_count": 28,
   "id": "a0df172e-140d-4e94-a98f-0aea4d7477c2",
   "metadata": {},
   "outputs": [
    {
     "data": {
      "text/plain": [
       "'bipin karkis'"
      ]
     },
     "execution_count": 28,
     "metadata": {},
     "output_type": "execute_result"
    }
   ],
   "source": [
    "actor_name #why does this still show karkis, even through in the previous line this had already been removed?"
   ]
  },
  {
   "cell_type": "code",
   "execution_count": 29,
   "id": "c713b249-acce-4e9a-834a-29286382331d",
   "metadata": {},
   "outputs": [],
   "source": [
    "actor_name = actor_name.replace(\"s\",\"\") #because, we need to store it"
   ]
  },
  {
   "cell_type": "code",
   "execution_count": 30,
   "id": "130832ba-0c85-4eee-812c-a9012aaf91f6",
   "metadata": {},
   "outputs": [
    {
     "data": {
      "text/plain": [
       "'bipin karki'"
      ]
     },
     "execution_count": 30,
     "metadata": {},
     "output_type": "execute_result"
    }
   ],
   "source": [
    "actor_name"
   ]
  },
  {
   "cell_type": "code",
   "execution_count": 31,
   "id": "03056c71-a984-4568-9ae1-6fec8686b6f0",
   "metadata": {},
   "outputs": [],
   "source": [
    "bad_string = \" a b  c   \""
   ]
  },
  {
   "cell_type": "code",
   "execution_count": 34,
   "id": "b651d98f-40d9-42c9-ac1f-0bc7b0653b16",
   "metadata": {},
   "outputs": [],
   "source": [
    "good_string = bad_string.strip().replace(\" \",\"\") #using multiple methods"
   ]
  },
  {
   "cell_type": "code",
   "execution_count": 35,
   "id": "c93e3ddc-45b4-4993-abd0-2fc91d74583c",
   "metadata": {},
   "outputs": [
    {
     "data": {
      "text/plain": [
       "'abc'"
      ]
     },
     "execution_count": 35,
     "metadata": {},
     "output_type": "execute_result"
    }
   ],
   "source": [
    "good_string"
   ]
  },
  {
   "cell_type": "code",
   "execution_count": 43,
   "id": "fc9e3f44-99c3-4b92-976c-25f7a5136d2d",
   "metadata": {},
   "outputs": [],
   "source": [
    "num1 = 6"
   ]
  },
  {
   "cell_type": "code",
   "execution_count": 44,
   "id": "2012fb59-0f0c-4121-b2e1-59e81cdd3d25",
   "metadata": {},
   "outputs": [
    {
     "name": "stdout",
     "output_type": "stream",
     "text": [
      "not so good work!\n"
     ]
    }
   ],
   "source": [
    "if num1 == 5:\n",
    "    print(\"wow this is great!\")\n",
    "else:\n",
    "    print(\"not so good work!\")\n",
    "   \n",
    "    "
   ]
  },
  {
   "cell_type": "code",
   "execution_count": 48,
   "id": "6bb59ea8-0dd6-47ba-a6ee-f06588ee1821",
   "metadata": {},
   "outputs": [],
   "source": [
    "def vote_allowed(age):\n",
    "    if age > 18:\n",
    "        print(\"you can vote\")\n",
    "    elif age == 18:\n",
    "        print(\"congratulation for turning 15, you can now vote\")\n",
    "    else:\n",
    "        print(\"sorry you cannot vote\")\n",
    "    \n",
    "\n"
   ]
  },
  {
   "cell_type": "code",
   "execution_count": 51,
   "id": "b60111a9-cbc2-4a55-a991-7679ced566b6",
   "metadata": {},
   "outputs": [
    {
     "name": "stdout",
     "output_type": "stream",
     "text": [
      "you can vote\n"
     ]
    }
   ],
   "source": [
    "vote_allowed(19)"
   ]
  },
  {
   "cell_type": "code",
   "execution_count": 69,
   "id": "211fce2f-cd5e-476a-8f52-c9fbfeaaed6c",
   "metadata": {},
   "outputs": [],
   "source": [
    "age_check = 90\n",
    "name = \"arjun\""
   ]
  },
  {
   "cell_type": "code",
   "execution_count": 70,
   "id": "5563027a-ab2f-4fb6-89cc-f52a0590ac07",
   "metadata": {},
   "outputs": [
    {
     "name": "stdout",
     "output_type": "stream",
     "text": [
      "keep flying with us, this flight on us!\n"
     ]
    }
   ],
   "source": [
    "if age_check <= 2:\n",
    "    print(\"you fly for free\")\n",
    "elif age_check == 16:\n",
    "    print(\"congratulations for turning 16, you fly for free\")\n",
    "elif age_check == 90:\n",
    "    print(\"keep flying with us, this flight on us!\")\n",
    "elif name == \"arjun\":\n",
    "    print(\"damn son, you also fly for free\")\n",
    "else:\n",
    "    print(\"you can't fly for free\")\n"
   ]
  },
  {
   "cell_type": "code",
   "execution_count": null,
   "id": "6a932c33-4e07-4a65-8b86-0c75859a5300",
   "metadata": {},
   "outputs": [],
   "source": []
  }
 ],
 "metadata": {
  "kernelspec": {
   "display_name": "Python 3 (ipykernel)",
   "language": "python",
   "name": "python3"
  },
  "language_info": {
   "codemirror_mode": {
    "name": "ipython",
    "version": 3
   },
   "file_extension": ".py",
   "mimetype": "text/x-python",
   "name": "python",
   "nbconvert_exporter": "python",
   "pygments_lexer": "ipython3",
   "version": "3.13.0"
  }
 },
 "nbformat": 4,
 "nbformat_minor": 5
}
