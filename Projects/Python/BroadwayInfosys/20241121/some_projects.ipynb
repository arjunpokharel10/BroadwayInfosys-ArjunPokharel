{
 "cells": [
  {
   "cell_type": "code",
   "execution_count": 13,
   "id": "867f70fa-d58d-4672-a47c-c76622909dbc",
   "metadata": {},
   "outputs": [],
   "source": [
    "def cost_of_projects(engraving, solid_gold):\n",
    "    cost = (solid_gold * (100 + 10 * (len(engraving)))) + ((not solid_gold) * (50 + 7 * (len(engraving))))\n",
    "    return cost"
   ]
  },
  {
   "cell_type": "code",
   "execution_count": 14,
   "id": "868c13e6-a6ec-43e3-a304-be59636642d7",
   "metadata": {},
   "outputs": [
    {
     "data": {
      "text/plain": [
       "120"
      ]
     },
     "execution_count": 14,
     "metadata": {},
     "output_type": "execute_result"
    }
   ],
   "source": [
    "cost_of_projects(\"08/10/2000\", False)"
   ]
  },
  {
   "cell_type": "code",
   "execution_count": 41,
   "id": "ba63c562-065a-4ce7-bbf6-a6e6a25c9188",
   "metadata": {},
   "outputs": [],
   "source": [
    "def cost_of_projects_new(engraving, solid_gold):\n",
    "    if solid_gold == True:\n",
    "        cost = 100 + 10*(len(engraving))\n",
    "    else:\n",
    "        cost = 50 + 7*(len(engraving))\n",
    "    return cost"
   ]
  },
  {
   "cell_type": "code",
   "execution_count": 42,
   "id": "98ebc104-a741-4d9c-9fd2-b9deeab6bf93",
   "metadata": {},
   "outputs": [
    {
     "data": {
      "text/plain": [
       "120"
      ]
     },
     "execution_count": 42,
     "metadata": {},
     "output_type": "execute_result"
    }
   ],
   "source": [
    "cost_of_projects_new(\"08/10/2000\", False)"
   ]
  },
  {
   "cell_type": "code",
   "execution_count": 16,
   "id": "dd8ff6be-1ae6-44ce-9d36-329e19d7bd32",
   "metadata": {},
   "outputs": [],
   "source": [
    "def evaluate_temp(temp):\n",
    "    message = \"Normal temperature.\"\n",
    "    if temp > 38:\n",
    "        message = \"Fever!\"\n",
    "    return message"
   ]
  },
  {
   "cell_type": "code",
   "execution_count": 19,
   "id": "dce43015-69d6-4c1f-b433-1d9ba4fab14b",
   "metadata": {},
   "outputs": [
    {
     "data": {
      "text/plain": [
       "'Normal temperature.'"
      ]
     },
     "execution_count": 19,
     "metadata": {},
     "output_type": "execute_result"
    }
   ],
   "source": [
    "evaluate_temp(55)\n",
    "evaluate_temp(36)"
   ]
  },
  {
   "cell_type": "code",
   "execution_count": 20,
   "id": "4e1be450-1f4f-415f-b072-ed6ff3b21a7e",
   "metadata": {},
   "outputs": [],
   "source": [
    "def evaluate_temp_with_else(temp):\n",
    "    if temp > 38:\n",
    "        message = \"Fever!\"\n",
    "    else:\n",
    "        message = \"Normal temperature.\"\n",
    "    return message"
   ]
  },
  {
   "cell_type": "code",
   "execution_count": 24,
   "id": "cf31e0f4-088e-4987-a9f1-8d32fd26ee10",
   "metadata": {},
   "outputs": [
    {
     "data": {
      "text/plain": [
       "'Fever!'"
      ]
     },
     "execution_count": 24,
     "metadata": {},
     "output_type": "execute_result"
    }
   ],
   "source": [
    "evaluate_temp_with_else(38.1)"
   ]
  },
  {
   "cell_type": "code",
   "execution_count": 25,
   "id": "b38ccbae-0ec3-4989-b921-b52a810020b6",
   "metadata": {},
   "outputs": [],
   "source": [
    "def evaluate_temp_with_elif(temp):\n",
    "    if temp > 38:\n",
    "        message = \"Fever!\"\n",
    "    elif temp > 35:\n",
    "        message = \"Temperature is normal.\"\n",
    "    else:\n",
    "        message = \"Low temperature!\"\n",
    "    return message\n",
    "    "
   ]
  },
  {
   "cell_type": "code",
   "execution_count": 28,
   "id": "adc6bfbe-8c26-4ece-a909-9d8e52cf2372",
   "metadata": {},
   "outputs": [
    {
     "data": {
      "text/plain": [
       "'Low temperature!'"
      ]
     },
     "execution_count": 28,
     "metadata": {},
     "output_type": "execute_result"
    }
   ],
   "source": [
    "evaluate_temp_with_elif(34)\n"
   ]
  },
  {
   "cell_type": "code",
   "execution_count": 29,
   "id": "73122e8b-7c01-4f73-8711-7ad4f6971b55",
   "metadata": {},
   "outputs": [],
   "source": [
    "def australian_tax_calc(salary):\n",
    "    if salary > 190000:\n",
    "        tax = 51,638 + 0.45 * (salary - 190000)\n",
    "    elif salary > 135000:\n",
    "        tax = 31288 + 0.37 * (salary - 135000)\n",
    "    elif salary > 45000:\n",
    "        tax = 4288 + 0.30 * (salary - 45000)\n",
    "    elif salary > 18200:\n",
    "        tax = 0.16 * salary\n",
    "    else:\n",
    "        tax = 0\n",
    "    return tax\n",
    "    "
   ]
  },
  {
   "cell_type": "code",
   "execution_count": 32,
   "id": "2e4a414d-533d-4c4f-9ad9-9430f9942c73",
   "metadata": {},
   "outputs": [
    {
     "data": {
      "text/plain": [
       "29788.0"
      ]
     },
     "execution_count": 32,
     "metadata": {},
     "output_type": "execute_result"
    }
   ],
   "source": [
    "australian_tax_calc(130000)\n"
   ]
  },
  {
   "cell_type": "code",
   "execution_count": 33,
   "id": "063849eb-dfd4-4db3-813c-f6575233cf40",
   "metadata": {},
   "outputs": [],
   "source": [
    "def get_grade(score):\n",
    "    if score >= 90:\n",
    "        grade = \"A\"\n",
    "    elif score >= 80:\n",
    "        grade = \"B\"\n",
    "    elif score >= 70:\n",
    "        grade = \"C\"\n",
    "    elif score >= 60:\n",
    "        grade = \"D\"\n",
    "    else:\n",
    "        grade = \"F\"\n",
    "    return grade\n"
   ]
  },
  {
   "cell_type": "code",
   "execution_count": 36,
   "id": "2e9b2e40-8213-4a80-80ed-73d7cc586955",
   "metadata": {},
   "outputs": [
    {
     "data": {
      "text/plain": [
       "'B'"
      ]
     },
     "execution_count": 36,
     "metadata": {},
     "output_type": "execute_result"
    }
   ],
   "source": [
    "get_grade(87)\n"
   ]
  },
  {
   "cell_type": "code",
   "execution_count": 1,
   "id": "8af26758-5244-4df0-9f92-84aa722abdc2",
   "metadata": {},
   "outputs": [],
   "source": [
    "def greet(name):\n",
    "    return f\"Hello, {name}!\""
   ]
  },
  {
   "cell_type": "code",
   "execution_count": 3,
   "id": "3423e4f6-fee5-40a3-9a44-184a62340448",
   "metadata": {},
   "outputs": [
    {
     "name": "stdout",
     "output_type": "stream",
     "text": [
      "Hello, Arjun!\n"
     ]
    }
   ],
   "source": [
    "print(greet(\"Arjun\"))"
   ]
  },
  {
   "cell_type": "code",
   "execution_count": 6,
   "id": "e5d3c46c-ae60-4af5-8825-c9ec07151e8f",
   "metadata": {},
   "outputs": [],
   "source": [
    "def greet2(name):\n",
    "    return \"Hello, \" + name + \"!\""
   ]
  },
  {
   "cell_type": "code",
   "execution_count": 5,
   "id": "58efb812-316a-4380-9bf9-59509c093aef",
   "metadata": {},
   "outputs": [
    {
     "name": "stdout",
     "output_type": "stream",
     "text": [
      "Hello, Arjun!\n"
     ]
    }
   ],
   "source": [
    "print(greet2(\"Arjun\"))"
   ]
  },
  {
   "cell_type": "code",
   "execution_count": null,
   "id": "8853f14d-69d0-4189-8bc9-592ecab74978",
   "metadata": {},
   "outputs": [],
   "source": []
  }
 ],
 "metadata": {
  "kernelspec": {
   "display_name": "Python 3 (ipykernel)",
   "language": "python",
   "name": "python3"
  },
  "language_info": {
   "codemirror_mode": {
    "name": "ipython",
    "version": 3
   },
   "file_extension": ".py",
   "mimetype": "text/x-python",
   "name": "python",
   "nbconvert_exporter": "python",
   "pygments_lexer": "ipython3",
   "version": "3.13.0"
  }
 },
 "nbformat": 4,
 "nbformat_minor": 5
}
