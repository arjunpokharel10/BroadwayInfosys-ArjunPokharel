{
 "cells": [
  {
   "cell_type": "code",
   "execution_count": null,
   "metadata": {
    "vscode": {
     "languageId": "plaintext"
    }
   },
   "outputs": [],
   "source": [
    "pypi.org\n",
    "\n",
    "this hosts python packages\n",
    "\n",
    "e.g. owner > the one who created the packages. Jupyter was created/owned by Project Jupyter. \n",
    "\n",
    "pip freeze\n",
    "pip list\n",
    "\n",
    "what's the difference between the two? \n"
   ]
  }
 ],
 "metadata": {
  "language_info": {
   "name": "python"
  }
 },
 "nbformat": 4,
 "nbformat_minor": 2
}
